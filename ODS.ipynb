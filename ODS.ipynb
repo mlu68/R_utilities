{
 "cells": [
  {
   "cell_type": "markdown",
   "metadata": {},
   "source": [
    "# Chargement httr"
   ]
  },
  {
   "cell_type": "code",
   "execution_count": 1,
   "metadata": {},
   "outputs": [],
   "source": [
    "library('httr') \r\n",
    "# https://www.r-bloggers.com/using-the-httr-package-to-retrieve-data-from-apis-in-r/\r\n",
    "library(readr)"
   ]
  },
  {
   "cell_type": "markdown",
   "metadata": {},
   "source": [
    "# Extraction de tout le dataset"
   ]
  },
  {
   "cell_type": "code",
   "execution_count": 18,
   "metadata": {},
   "outputs": [],
   "source": [
    "a <- GET(\"https://vista.opendatasoft.com/explore/dataset/stations-services-france/download/?format=csv\")"
   ]
  },
  {
   "cell_type": "code",
   "execution_count": 19,
   "metadata": {},
   "outputs": [],
   "source": [
    "result <- content(a, as = \"text\")"
   ]
  },
  {
   "cell_type": "code",
   "execution_count": 21,
   "metadata": {},
   "outputs": [],
   "source": [
    "#write.table(result, \"zipstation.csv\", quote = FALSE,\r\n",
    "#            row.names = FALSE)"
   ]
  },
  {
   "cell_type": "code",
   "execution_count": 20,
   "metadata": {},
   "outputs": [],
   "source": [
    "zip <- read_delim(result, delim = ';')"
   ]
  },
  {
   "cell_type": "code",
   "execution_count": 24,
   "metadata": {},
   "outputs": [
    {
     "name": "stdout",
     "output_type": "stream",
     "text": [
      "[1] \"ELAN\"         \"TOTAL Access\" \"TOTAL\"       \n"
     ]
    }
   ],
   "source": [
    "unique(zip$brand)"
   ]
  },
  {
   "cell_type": "markdown",
   "metadata": {},
   "source": [
    "# Extraction avec filtre"
   ]
  },
  {
   "cell_type": "code",
   "execution_count": 3,
   "metadata": {},
   "outputs": [],
   "source": [
    "b <- GET('https://vista.opendatasoft.com/explore/dataset/stations-services-france/download/?format=csv&facet=latitude&facet=longitude&refine.brand=TOTAL&fields=latitude,longitude,name')"
   ]
  },
  {
   "cell_type": "code",
   "execution_count": 5,
   "metadata": {},
   "outputs": [],
   "source": [
    "result2 <- content(b, as = \"text\")\r\n",
    "zip2 <- read_delim(result2, delim = ';')"
   ]
  },
  {
   "cell_type": "code",
   "execution_count": 7,
   "metadata": {},
   "outputs": [
    {
     "name": "stdout",
     "output_type": "stream",
     "text": [
      "[1] 1500    3\n"
     ]
    }
   ],
   "source": [
    "dim(zip2)"
   ]
  }
 ],
 "metadata": {
  "kernelspec": {
   "display_name": "R",
   "language": "R",
   "name": "ride"
  },
  "language_info": {
   "file_extension": ".r",
   "mimetype": "text/x-rsrc",
   "name": "r",
   "version": "R version 3.3.2 (2016-10-31)"
  }
 },
 "nbformat": 4,
 "nbformat_minor": 2
}
